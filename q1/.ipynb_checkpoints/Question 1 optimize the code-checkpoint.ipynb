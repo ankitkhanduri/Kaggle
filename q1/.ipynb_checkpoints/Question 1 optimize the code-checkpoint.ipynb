{
 "cells": [
  {
   "cell_type": "code",
   "execution_count": 15,
   "metadata": {},
   "outputs": [],
   "source": [
    "import time\n",
    "def special_sum(lst):\n",
    "    start_time = time.clock()\n",
    "    output_list = []\n",
    "    for i, position in enumerate(lst):\n",
    "        total = 0\n",
    "        for j, number in enumerate(lst):\n",
    "            if j == i:\n",
    "                continue\n",
    "            else:\n",
    "                total = total + number\n",
    "        output_list.append(total)\n",
    "    print (time.clock() - start_time, \"seconds\")\n",
    "    return output_list\n",
    "\n"
   ]
  },
  {
   "cell_type": "code",
   "execution_count": 16,
   "metadata": {},
   "outputs": [
    {
     "name": "stdout",
     "output_type": "stream",
     "text": [
      "6.500000001352646e-06 seconds\n"
     ]
    },
    {
     "data": {
      "text/plain": [
       "[9, 8, 7, 6]"
      ]
     },
     "execution_count": 16,
     "metadata": {},
     "output_type": "execute_result"
    }
   ],
   "source": [
    "special_sum([1,2,3,4])"
   ]
  },
  {
   "cell_type": "code",
   "execution_count": 17,
   "metadata": {},
   "outputs": [],
   "source": [
    "import time\n",
    "def special_sum(lst):  \n",
    "    start_time = time.clock()   \n",
    "    sum_ = sum(lst)\n",
    "    output_list = [sum_ - x for x in lst]\n",
    "    print (time.clock() - start_time, \"seconds\")\n",
    "    return output_list"
   ]
  },
  {
   "cell_type": "code",
   "execution_count": 18,
   "metadata": {},
   "outputs": [
    {
     "name": "stdout",
     "output_type": "stream",
     "text": [
      "3.1999999947629476e-06 seconds\n"
     ]
    },
    {
     "data": {
      "text/plain": [
       "[9, 8, 7, 6]"
      ]
     },
     "execution_count": 18,
     "metadata": {},
     "output_type": "execute_result"
    }
   ],
   "source": [
    "special_sum([1,2,3,4])"
   ]
  }
 ],
 "metadata": {
  "kernelspec": {
   "display_name": "Python 3",
   "language": "python",
   "name": "python3"
  },
  "language_info": {
   "codemirror_mode": {
    "name": "ipython",
    "version": 3
   },
   "file_extension": ".py",
   "mimetype": "text/x-python",
   "name": "python",
   "nbconvert_exporter": "python",
   "pygments_lexer": "ipython3",
   "version": "3.6.1"
  }
 },
 "nbformat": 4,
 "nbformat_minor": 2
}
