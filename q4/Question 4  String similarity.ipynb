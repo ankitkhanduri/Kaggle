{
 "cells": [
  {
   "cell_type": "markdown",
   "metadata": {},
   "source": [
    "# Task1\n",
    "\n",
    "a) Download test.csv from https://www.kaggle.com/rishisankineni/text-similarity/data\n"
   ]
  },
  {
   "cell_type": "code",
   "execution_count": 38,
   "metadata": {},
   "outputs": [
    {
     "data": {
      "text/html": [
       "<div>\n",
       "<style scoped>\n",
       "    .dataframe tbody tr th:only-of-type {\n",
       "        vertical-align: middle;\n",
       "    }\n",
       "\n",
       "    .dataframe tbody tr th {\n",
       "        vertical-align: top;\n",
       "    }\n",
       "\n",
       "    .dataframe thead th {\n",
       "        text-align: right;\n",
       "    }\n",
       "</style>\n",
       "<table border=\"1\" class=\"dataframe\">\n",
       "  <thead>\n",
       "    <tr style=\"text-align: right;\">\n",
       "      <th></th>\n",
       "      <th>test_id</th>\n",
       "      <th>description_x</th>\n",
       "      <th>description_y</th>\n",
       "      <th>same_security</th>\n",
       "    </tr>\n",
       "  </thead>\n",
       "  <tbody>\n",
       "    <tr>\n",
       "      <th>0</th>\n",
       "      <td>0</td>\n",
       "      <td>semtech corp</td>\n",
       "      <td>semtech corporation</td>\n",
       "      <td>NaN</td>\n",
       "    </tr>\n",
       "    <tr>\n",
       "      <th>1</th>\n",
       "      <td>1</td>\n",
       "      <td>vanguard mid cap index</td>\n",
       "      <td>vanguard midcap index - a</td>\n",
       "      <td>NaN</td>\n",
       "    </tr>\n",
       "    <tr>\n",
       "      <th>2</th>\n",
       "      <td>2</td>\n",
       "      <td>spdr gold trust gold shares</td>\n",
       "      <td>spdr gold trust spdr gold shares</td>\n",
       "      <td>NaN</td>\n",
       "    </tr>\n",
       "    <tr>\n",
       "      <th>3</th>\n",
       "      <td>3</td>\n",
       "      <td>vanguard total bond index adm</td>\n",
       "      <td>vanguard total bond market index</td>\n",
       "      <td>NaN</td>\n",
       "    </tr>\n",
       "    <tr>\n",
       "      <th>4</th>\n",
       "      <td>4</td>\n",
       "      <td>oakmark international fund class i</td>\n",
       "      <td>oakmark international cl i</td>\n",
       "      <td>NaN</td>\n",
       "    </tr>\n",
       "  </tbody>\n",
       "</table>\n",
       "</div>"
      ],
      "text/plain": [
       "   test_id                       description_x  \\\n",
       "0        0                        semtech corp   \n",
       "1        1              vanguard mid cap index   \n",
       "2        2         spdr gold trust gold shares   \n",
       "3        3       vanguard total bond index adm   \n",
       "4        4  oakmark international fund class i   \n",
       "\n",
       "                      description_y  same_security  \n",
       "0               semtech corporation            NaN  \n",
       "1         vanguard midcap index - a            NaN  \n",
       "2  spdr gold trust spdr gold shares            NaN  \n",
       "3  vanguard total bond market index            NaN  \n",
       "4        oakmark international cl i            NaN  "
      ]
     },
     "execution_count": 38,
     "metadata": {},
     "output_type": "execute_result"
    }
   ],
   "source": [
    "import kaggle\n",
    "import subprocess\n",
    "import os\n",
    "import pandas as pd\n",
    "from pandasql import sqldf\n",
    "pysqldf = lambda q: sqldf(q, globals())\n",
    "import pymysql\n",
    "import nltk\n",
    "import numpy as np\n",
    "\n",
    "\n",
    "os.chdir(\"C:\\\\Users\\\\Administrator\\\\Desktop\\\\Kaggle\\\\q4\")\n",
    "os.system('kaggle datasets download -d rishisankineni/text-similarity')\n",
    "initial_dataset=pd.read_csv(\"test.csv\")\n",
    "initial_dataset.head(5)"
   ]
  },
  {
   "cell_type": "markdown",
   "metadata": {},
   "source": [
    "# Task2 \n",
    "b) Load the data to a Spark/Pandas data frame\n"
   ]
  },
  {
   "cell_type": "code",
   "execution_count": 4,
   "metadata": {},
   "outputs": [
    {
     "data": {
      "text/plain": [
       "pandas.core.frame.DataFrame"
      ]
     },
     "execution_count": 4,
     "metadata": {},
     "output_type": "execute_result"
    }
   ],
   "source": [
    "# Loading data into pandas dataframe\n",
    "df2=initial_dataset\n",
    "type(df2)"
   ]
  },
  {
   "cell_type": "markdown",
   "metadata": {},
   "source": [
    "# Task3\n",
    "c) Calculate similarity between description_x and description_y and store resultant\n",
    "scores in a new column\n"
   ]
  },
  {
   "cell_type": "code",
   "execution_count": 52,
   "metadata": {},
   "outputs": [
    {
     "data": {
      "text/html": [
       "<div>\n",
       "<style scoped>\n",
       "    .dataframe tbody tr th:only-of-type {\n",
       "        vertical-align: middle;\n",
       "    }\n",
       "\n",
       "    .dataframe tbody tr th {\n",
       "        vertical-align: top;\n",
       "    }\n",
       "\n",
       "    .dataframe thead th {\n",
       "        text-align: right;\n",
       "    }\n",
       "</style>\n",
       "<table border=\"1\" class=\"dataframe\">\n",
       "  <thead>\n",
       "    <tr style=\"text-align: right;\">\n",
       "      <th></th>\n",
       "      <th>test_id</th>\n",
       "      <th>description_x</th>\n",
       "      <th>description_y</th>\n",
       "      <th>same_security</th>\n",
       "      <th>resultant_scores</th>\n",
       "    </tr>\n",
       "  </thead>\n",
       "  <tbody>\n",
       "    <tr>\n",
       "      <th>0</th>\n",
       "      <td>0</td>\n",
       "      <td>semtech corp</td>\n",
       "      <td>semtech corporation</td>\n",
       "      <td>NaN</td>\n",
       "      <td>0.774194</td>\n",
       "    </tr>\n",
       "    <tr>\n",
       "      <th>1</th>\n",
       "      <td>1</td>\n",
       "      <td>vanguard mid cap index</td>\n",
       "      <td>vanguard midcap index - a</td>\n",
       "      <td>NaN</td>\n",
       "      <td>0.656250</td>\n",
       "    </tr>\n",
       "    <tr>\n",
       "      <th>2</th>\n",
       "      <td>2</td>\n",
       "      <td>spdr gold trust gold shares</td>\n",
       "      <td>spdr gold trust spdr gold shares</td>\n",
       "      <td>NaN</td>\n",
       "      <td>0.915254</td>\n",
       "    </tr>\n",
       "    <tr>\n",
       "      <th>3</th>\n",
       "      <td>3</td>\n",
       "      <td>vanguard total bond index adm</td>\n",
       "      <td>vanguard total bond market index</td>\n",
       "      <td>NaN</td>\n",
       "      <td>0.658537</td>\n",
       "    </tr>\n",
       "    <tr>\n",
       "      <th>4</th>\n",
       "      <td>4</td>\n",
       "      <td>oakmark international fund class i</td>\n",
       "      <td>oakmark international cl i</td>\n",
       "      <td>NaN</td>\n",
       "      <td>0.866667</td>\n",
       "    </tr>\n",
       "  </tbody>\n",
       "</table>\n",
       "</div>"
      ],
      "text/plain": [
       "   test_id                       description_x  \\\n",
       "0        0                        semtech corp   \n",
       "1        1              vanguard mid cap index   \n",
       "2        2         spdr gold trust gold shares   \n",
       "3        3       vanguard total bond index adm   \n",
       "4        4  oakmark international fund class i   \n",
       "\n",
       "                      description_y  same_security  resultant_scores  \n",
       "0               semtech corporation            NaN          0.774194  \n",
       "1         vanguard midcap index - a            NaN          0.656250  \n",
       "2  spdr gold trust spdr gold shares            NaN          0.915254  \n",
       "3  vanguard total bond market index            NaN          0.658537  \n",
       "4        oakmark international cl i            NaN          0.866667  "
      ]
     },
     "execution_count": 52,
     "metadata": {},
     "output_type": "execute_result"
    }
   ],
   "source": [
    "df3=initial_dataset\n",
    "from difflib import SequenceMatcher\n",
    "\n",
    "def similar(a, b):\n",
    "    return SequenceMatcher(None, a, b).ratio()\n",
    "\n",
    "for index, row in df3.iterrows():\n",
    "    val= similar(row[1],row[2]) \n",
    "    df3.loc[df3['description_x'] == row[1],\"resultant_scores\"]=val\n",
    "df3.head(5)    "
   ]
  },
  {
   "cell_type": "code",
   "execution_count": null,
   "metadata": {},
   "outputs": [],
   "source": []
  },
  {
   "cell_type": "markdown",
   "metadata": {},
   "source": [
    "# Task4 \n",
    "\n",
    "d) Parallelise the matching process using SPARK environment\n"
   ]
  },
  {
   "cell_type": "code",
   "execution_count": null,
   "metadata": {},
   "outputs": [],
   "source": [
    "df4=initial_dataset\n",
    "from pyspark import SparkConf, SparkContext\n",
    "from difflib import SequenceMatcher\n",
    "from pyspark.ml import Pipeline\n",
    "from pyspark.ml.feature import RegexTokenizer, NGram, HashingTF, MinHashLSH\n",
    "\n",
    "\n",
    "conf = SparkConf().setMaster(\"local\").setAppName(\"My App\")\n",
    "sc = SparkContext(conf = conf)\n",
    "\n",
    "spDF = sqlContext.createDataFrame(df4)\n",
    "\n",
    "X=spark.createDataFrame(df4['description_x']., \"string\").toDF(\"text\")\n",
    "X_parallelize== sc.parallelize(X)\n",
    "\n",
    "Y=spark.createDataFrame(df4['description_y']., \"string\").toDF(\"text\")\n",
    "Y_parallelize== sc.parallelize(Y)\n",
    "\n",
    "model = Pipeline(stages=[\n",
    "    RegexTokenizer(\n",
    "        pattern=\"\", inputCol=\"text\", outputCol=\"tokens\", minTokenLength=1\n",
    "    ),\n",
    "    NGram(n=3, inputCol=\"tokens\", outputCol=\"ngrams\"),\n",
    "    HashingTF(inputCol=\"ngrams\", outputCol=\"vectors\"),\n",
    "    MinHashLSH(inputCol=\"vectors\", outputCol=\"lsh\")\n",
    "]).fit(db)\n",
    "\n",
    "\n",
    "\n",
    "db_hashed = model.transform(db)\n",
    "query_hashed = model.transform(query)\n",
    "\n",
    "model.stages[-1].approxSimilarityJoin(db_hashed, query_hashed, 0.75).show()\n",
    "\n"
   ]
  },
  {
   "cell_type": "code",
   "execution_count": null,
   "metadata": {},
   "outputs": [],
   "source": []
  }
 ],
 "metadata": {
  "kernelspec": {
   "display_name": "Python 3",
   "language": "python",
   "name": "python3"
  },
  "language_info": {
   "codemirror_mode": {
    "name": "ipython",
    "version": 3
   },
   "file_extension": ".py",
   "mimetype": "text/x-python",
   "name": "python",
   "nbconvert_exporter": "python",
   "pygments_lexer": "ipython3",
   "version": "3.6.1"
  }
 },
 "nbformat": 4,
 "nbformat_minor": 2
}
